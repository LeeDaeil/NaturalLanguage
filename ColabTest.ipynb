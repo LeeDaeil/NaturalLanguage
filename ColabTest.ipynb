{
  "nbformat": 4,
  "nbformat_minor": 0,
  "metadata": {
    "colab": {
      "name": "ColabTest.ipynb",
      "provenance": [],
      "collapsed_sections": [],
      "authorship_tag": "ABX9TyOOhW8dzzl5jBZhqUkluWR0",
      "include_colab_link": true
    },
    "kernelspec": {
      "name": "python3",
      "display_name": "Python 3"
    },
    "language_info": {
      "name": "python"
    }
  },
  "cells": [
    {
      "cell_type": "markdown",
      "metadata": {
        "id": "view-in-github",
        "colab_type": "text"
      },
      "source": [
        "<a href=\"https://colab.research.google.com/github/LeeDaeil/NaturalLanguage/blob/main/ColabTest.ipynb\" target=\"_parent\"><img src=\"https://colab.research.google.com/assets/colab-badge.svg\" alt=\"Open In Colab\"/></a>"
      ]
    },
    {
      "cell_type": "code",
      "execution_count": null,
      "metadata": {
        "colab": {
          "base_uri": "https://localhost:8080/"
        },
        "id": "OBYkcDjR49PV",
        "outputId": "8b6befd4-ff95-48dd-d02d-1cec3a9a2d67"
      },
      "outputs": [
        {
          "output_type": "stream",
          "name": "stdout",
          "text": [
            "코랩과 깃 연동 테스트\n"
          ]
        }
      ],
      "source": [
        "print('코랩과 깃 연동 테스트')"
      ]
    },
    {
      "cell_type": "code",
      "source": [
        "print('테스트')"
      ],
      "metadata": {
        "id": "G08C4lXa5DmO",
        "colab": {
          "base_uri": "https://localhost:8080/"
        },
        "outputId": "11bb360d-57c9-4ee5-a8fb-a513fa2f6dff"
      },
      "execution_count": 2,
      "outputs": [
        {
          "output_type": "stream",
          "name": "stdout",
          "text": [
            "테스트\n"
          ]
        }
      ]
    },
    {
      "cell_type": "code",
      "source": [
        ""
      ],
      "metadata": {
        "id": "_yUpwmDd5us2"
      },
      "execution_count": null,
      "outputs": []
    }
  ]
}